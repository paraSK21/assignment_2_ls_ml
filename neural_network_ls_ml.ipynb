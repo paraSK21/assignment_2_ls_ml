{
  "cells": [
    {
      "cell_type": "code",
      "execution_count": 2,
      "metadata": {
        "colab": {
          "base_uri": "https://localhost:8080/"
        },
        "id": "L0oe6xV6GNdF",
        "outputId": "22b957b0-4806-4c49-c166-32799a6b38ec"
      },
      "outputs": [
        {
          "name": "stdout",
          "output_type": "stream",
          "text": [
            "Tue Jul  9 18:16:11 2024       \n",
            "+---------------------------------------------------------------------------------------+\n",
            "| NVIDIA-SMI 535.104.05             Driver Version: 535.104.05   CUDA Version: 12.2     |\n",
            "|-----------------------------------------+----------------------+----------------------+\n",
            "| GPU  Name                 Persistence-M | Bus-Id        Disp.A | Volatile Uncorr. ECC |\n",
            "| Fan  Temp   Perf          Pwr:Usage/Cap |         Memory-Usage | GPU-Util  Compute M. |\n",
            "|                                         |                      |               MIG M. |\n",
            "|=========================================+======================+======================|\n",
            "|   0  Tesla T4                       Off | 00000000:00:04.0 Off |                    0 |\n",
            "| N/A   41C    P8               9W /  70W |      0MiB / 15360MiB |      0%      Default |\n",
            "|                                         |                      |                  N/A |\n",
            "+-----------------------------------------+----------------------+----------------------+\n",
            "                                                                                         \n",
            "+---------------------------------------------------------------------------------------+\n",
            "| Processes:                                                                            |\n",
            "|  GPU   GI   CI        PID   Type   Process name                            GPU Memory |\n",
            "|        ID   ID                                                             Usage      |\n",
            "|=======================================================================================|\n",
            "|  No running processes found                                                           |\n",
            "+---------------------------------------------------------------------------------------+\n"
          ]
        }
      ],
      "source": [
        "nvidia-smi\n",
        "# pwd used to get current directory "
      ]
    },
    {
      "cell_type": "code",
      "execution_count": 3,
      "metadata": {
        "id": "5vQXA4W4KEBt"
      },
      "outputs": [],
      "source": [
        "import tensorflow as tf\n",
        "from tensorflow import keras\n",
        "\n",
        "from tensorflow.keras import layers\n",
        "from tensorflow.keras.models import Sequential\n",
        "from tensorflow.keras import models\n",
        "from tensorflow.keras.layers import Dense, Dropout, Activation, Flatten\n"
      ]
    },
    {
      "cell_type": "code",
      "execution_count": null,
      "metadata": {
        "id": "u3uwYajUKYQM"
      },
      "outputs": [],
      "source": [
        "# prompt: plot some images stored in Bart folder\n",
        "\n",
        "import os\n",
        "import matplotlib.pyplot as plt\n",
        "import matplotlib.image as mpimg\n",
        "\n",
        "# Get the current working directory\n",
        "cwd = os.getcwd()\n",
        "\n",
        "# Create a path to the Bart folder\n",
        "bart_folder_path = os.path.join(cwd, \"Bart\")\n",
        "\n",
        "# List all files in the Bart folder\n",
        "files = os.listdir(bart_folder_path)\n",
        "\n",
        "# Iterate through the files and plot the images\n",
        "for file in files:\n",
        "    # Check if the file is an image\n",
        "    if file.endswith(\".bmp\") or file.endswith(\".png\"):\n",
        "        # Create a path to the image file\n",
        "        image_path = os.path.join(bart_folder_path, file)\n",
        "\n",
        "        # Load the image\n",
        "        image = mpimg.imread(image_path)\n",
        "\n",
        "        # Plot the image\n",
        "        plt.imshow(image)\n",
        "        plt.show()\n",
        "\n"
      ]
    },
    {
      "cell_type": "code",
      "execution_count": null,
      "metadata": {
        "id": "JuOX4s2FLumN"
      },
      "outputs": [],
      "source": [
        "# prompt: plot some images stored in Homer folder\n",
        "\n",
        "import os\n",
        "import matplotlib.pyplot as plt\n",
        "import matplotlib.image as mpimg\n",
        "\n",
        "# Get the current working directory\n",
        "cwd = os.getcwd()\n",
        "\n",
        "# Create a path to the Bart folder\n",
        "bart_folder_path = os.path.join(cwd, \"Homer\")\n",
        "\n",
        "# List all files in the Bart folder\n",
        "files = os.listdir(bart_folder_path)\n",
        "\n",
        "# Iterate through the files and plot the images\n",
        "for file in files:\n",
        "    # Check if the file is an image\n",
        "    if file.endswith(\".bmp\") or file.endswith(\".png\"):\n",
        "        # Create a path to the image file\n",
        "        image_path = os.path.join(bart_folder_path, file)\n",
        "\n",
        "        # Load the image\n",
        "        image = mpimg.imread(image_path)\n",
        "\n",
        "        # Plot the image\n",
        "        plt.imshow(image)\n",
        "        plt.show()"
      ]
    },
    {
      "cell_type": "code",
      "execution_count": 38,
      "metadata": {
        "colab": {
          "base_uri": "https://localhost:8080/"
        },
        "id": "WJvTLE_-MABO",
        "outputId": "d7c66ef0-e606-4133-f0ee-d03215328d94"
      },
      "outputs": [
        {
          "name": "stdout",
          "output_type": "stream",
          "text": [
            "x_train shape: (242, 64, 64)\n",
            "y_train shape: (242,)\n",
            "x_test shape: (54, 64, 64)\n",
            "y_test shape: (54,)\n"
          ]
        }
      ],
      "source": [
        "import os\n",
        "import numpy as np\n",
        "from PIL import Image\n",
        "import tensorflow as tf\n",
        "from tensorflow import keras\n",
        "\n",
        "from tensorflow.keras import layers\n",
        "from tensorflow.keras.models import Sequential\n",
        "from tensorflow.keras import models\n",
        "from tensorflow.keras.layers import Dense, Dropout, Activation, Flatten\n",
        "\n",
        "# Get the current working directory\n",
        "cwd = os.getcwd()\n",
        "\n",
        "# Create paths to the Bart and Homer folders\n",
        "bart_folder_path = os.path.join(cwd, \"Bart\")\n",
        "homer_folder_path = os.path.join(cwd, \"Homer\")\n",
        "\n",
        "# Initialize empty lists for images and labels\n",
        "images = []\n",
        "labels = []\n",
        "\n",
        "# Function to load images from a folder and resize them\n",
        "def load_images_from_folder(folder_path, label, target_size=(64, 64)):\n",
        "    for file in os.listdir(folder_path):\n",
        "        if file.endswith(\".bmp\") or file.endswith(\".png\"):\n",
        "            image = Image.open(os.path.join(folder_path, file)).convert('L')\n",
        "            image = image.resize(target_size)\n",
        "            image_array = np.array(image)\n",
        "            images.append(image_array)\n",
        "            labels.append(label)\n",
        "\n",
        "# Load images from Bart and Homer folders\n",
        "load_images_from_folder(bart_folder_path, 0)  # Label for Bart images\n",
        "load_images_from_folder(homer_folder_path, 1)  # Label for Homer images\n",
        "\n",
        "# Convert images and labels to numpy arrays\n",
        "images = np.array(images)\n",
        "labels = np.array(labels)\n",
        "\n",
        "# Shuffle the data\n",
        "indices = np.arange(len(images))\n",
        "np.random.seed(29)\n",
        "images = images[indices]\n",
        "labels = labels[indices]\n",
        "\n",
        "# Split the data into training, validation, and testing sets\n",
        "split_index1 = int(0.9 * len(images))\n",
        "split_index2 = int(0.8 * len(images))\n",
        "\n",
        "\n",
        "\n",
        "x_train,x_val,  x_test = np.split(images, [split_index1,split_index2 ])\n",
        "y_train ,y_val , y_test = np.split(labels, [split_index1,split_index2 ])\n",
        "\n",
        "# Print the shapes of the training, validation, and testing sets\n",
        "print(\"x_train shape:\", x_train.shape)\n",
        "print(\"y_train shape:\", y_train.shape)\n",
        "print(\"x_test shape:\", x_test.shape)\n",
        "print(\"y_test shape:\", y_test.shape)\n",
        "\n",
        "\n"
      ]
    },
    {
      "cell_type": "code",
      "execution_count": 42,
      "metadata": {
        "colab": {
          "base_uri": "https://localhost:8080/"
        },
        "id": "u52HT3cTNgav",
        "outputId": "f691294f-1526-4d4f-bd87-120a48a28d80"
      },
      "outputs": [
        {
          "name": "stdout",
          "output_type": "stream",
          "text": [
            "Epoch 1/20\n",
            "8/8 [==============================] - 1s 5ms/step - loss: 117.4010 - accuracy: 0.5455\n",
            "Epoch 2/20\n",
            "8/8 [==============================] - 0s 3ms/step - loss: 69.7594 - accuracy: 0.5289\n",
            "Epoch 3/20\n",
            "8/8 [==============================] - 0s 4ms/step - loss: 25.2389 - accuracy: 0.5702\n",
            "Epoch 4/20\n",
            "8/8 [==============================] - 0s 3ms/step - loss: 53.5620 - accuracy: 0.5455\n",
            "Epoch 5/20\n",
            "8/8 [==============================] - 0s 3ms/step - loss: 44.5223 - accuracy: 0.5455\n",
            "Epoch 6/20\n",
            "8/8 [==============================] - 0s 3ms/step - loss: 46.2736 - accuracy: 0.6198\n",
            "Epoch 7/20\n",
            "8/8 [==============================] - 0s 3ms/step - loss: 47.3186 - accuracy: 0.4959\n",
            "Epoch 8/20\n",
            "8/8 [==============================] - 0s 3ms/step - loss: 23.9904 - accuracy: 0.5620\n",
            "Epoch 9/20\n",
            "8/8 [==============================] - 0s 6ms/step - loss: 6.0683 - accuracy: 0.5620\n",
            "Epoch 10/20\n",
            "8/8 [==============================] - 0s 3ms/step - loss: 2.4714 - accuracy: 0.6736\n",
            "Epoch 11/20\n",
            "8/8 [==============================] - 0s 3ms/step - loss: 2.8992 - accuracy: 0.6033\n",
            "Epoch 12/20\n",
            "8/8 [==============================] - 0s 4ms/step - loss: 2.6963 - accuracy: 0.6446\n",
            "Epoch 13/20\n",
            "8/8 [==============================] - 0s 3ms/step - loss: 1.4727 - accuracy: 0.7273\n",
            "Epoch 14/20\n",
            "8/8 [==============================] - 0s 3ms/step - loss: 3.7715 - accuracy: 0.6198\n",
            "Epoch 15/20\n",
            "8/8 [==============================] - 0s 4ms/step - loss: 1.8969 - accuracy: 0.7149\n",
            "Epoch 16/20\n",
            "8/8 [==============================] - 0s 4ms/step - loss: 2.1261 - accuracy: 0.6446\n",
            "Epoch 17/20\n",
            "8/8 [==============================] - 0s 4ms/step - loss: 2.2062 - accuracy: 0.6694\n",
            "Epoch 18/20\n",
            "8/8 [==============================] - 0s 4ms/step - loss: 3.2252 - accuracy: 0.6281\n",
            "Epoch 19/20\n",
            "8/8 [==============================] - 0s 4ms/step - loss: 2.1660 - accuracy: 0.7025\n",
            "Epoch 20/20\n",
            "8/8 [==============================] - 0s 4ms/step - loss: 2.6661 - accuracy: 0.6322\n",
            "2/2 [==============================] - 0s 7ms/step - loss: 0.0484 - accuracy: 0.9815\n",
            "Test accuracy: 98.14814925193787%\n"
          ]
        }
      ],
      "source": [
        "import random\n",
        "np.random.seed(42)\n",
        "tf.random.set_seed(42)\n",
        "random.seed(42)\n",
        "\n",
        "\n",
        "model = keras.Sequential([\n",
        "    keras.layers.Flatten(input_shape=(64, 64)),\n",
        "    keras.layers.Dense(64, activation='relu'),\n",
        "    keras.layers.Dense(128, activation='relu'),\n",
        "    keras.layers.Dense(1, activation='sigmoid')\n",
        "])\n",
        "\n",
        "\n",
        "model.compile(optimizer='adam',\n",
        "              loss='binary_crossentropy',\n",
        "              metrics=['accuracy'])\n",
        "\n",
        "\n",
        "history = model.fit(x_train, y_train, epochs=20, batch_size=32)\n",
        "\n",
        "\n",
        "# Evaluate the model on the test set\n",
        "test_loss, test_accuracy = model.evaluate(x_test, y_test )\n",
        "print(f\"Test accuracy: {test_accuracy * 100}%\")\n"
      ]
    },
    {
      "cell_type": "markdown",
      "metadata": {
        "id": "3gdGGGWzu4lT"
      },
      "source": []
    },
    {
      "cell_type": "code",
      "execution_count": null,
      "metadata": {
        "id": "Ryd0ymvgu4Vi"
      },
      "outputs": [],
      "source": []
    },
    {
      "cell_type": "code",
      "execution_count": 43,
      "metadata": {
        "colab": {
          "base_uri": "https://localhost:8080/"
        },
        "id": "VVpy55pHO25l",
        "outputId": "196df5ba-c408-4434-b4a0-7ce67f96dcad"
      },
      "outputs": [
        {
          "name": "stdout",
          "output_type": "stream",
          "text": [
            "2/2 [==============================] - 0s 8ms/step - loss: 0.0484 - accuracy: 0.9815\n",
            "2/2 [==============================] - 0s 6ms/step\n"
          ]
        },
        {
          "data": {
            "text/plain": [
              "array([[0.999995  ],\n",
              "       [0.9999999 ],\n",
              "       [0.99999964],\n",
              "       [0.9998456 ],\n",
              "       [0.99999976],\n",
              "       [0.99999964],\n",
              "       [1.        ],\n",
              "       [0.9992762 ],\n",
              "       [0.99997056],\n",
              "       [0.99999976],\n",
              "       [0.99999964],\n",
              "       [0.9999887 ],\n",
              "       [0.9999924 ],\n",
              "       [0.9999994 ],\n",
              "       [0.99985147],\n",
              "       [0.9997714 ],\n",
              "       [0.999997  ],\n",
              "       [0.99994445],\n",
              "       [0.96426344],\n",
              "       [1.        ],\n",
              "       [1.        ],\n",
              "       [0.99995756],\n",
              "       [0.7462319 ],\n",
              "       [0.9999337 ],\n",
              "       [1.        ],\n",
              "       [0.99991107],\n",
              "       [0.99402493],\n",
              "       [0.9999987 ],\n",
              "       [0.9989145 ],\n",
              "       [1.        ],\n",
              "       [0.99939907],\n",
              "       [1.        ],\n",
              "       [0.9999622 ],\n",
              "       [0.9999999 ],\n",
              "       [0.23954704],\n",
              "       [0.9999902 ],\n",
              "       [0.997612  ],\n",
              "       [0.50786966],\n",
              "       [0.9958781 ],\n",
              "       [0.9896459 ],\n",
              "       [0.9999658 ],\n",
              "       [1.        ],\n",
              "       [0.8828099 ],\n",
              "       [0.9993187 ],\n",
              "       [1.        ],\n",
              "       [0.99999547],\n",
              "       [0.9999521 ],\n",
              "       [0.9862757 ],\n",
              "       [0.999813  ],\n",
              "       [0.9984126 ],\n",
              "       [0.99950266],\n",
              "       [0.9999646 ],\n",
              "       [0.99171305],\n",
              "       [0.9999999 ]], dtype=float32)"
            ]
          },
          "execution_count": 43,
          "metadata": {},
          "output_type": "execute_result"
        }
      ],
      "source": [
        "model.evaluate(x_test, y_test ,)\n",
        "model.predict(x_test)\n"
      ]
    },
    {
      "cell_type": "code",
      "execution_count": 44,
      "metadata": {
        "colab": {
          "base_uri": "https://localhost:8080/"
        },
        "id": "LaCZpVbBOtq8",
        "outputId": "ee7da19f-afc7-4bff-84fa-fd4e044f21cf"
      },
      "outputs": [
        {
          "name": "stdout",
          "output_type": "stream",
          "text": [
            "Model: \"sequential_29\"\n",
            "_________________________________________________________________\n",
            " Layer (type)                Output Shape              Param #   \n",
            "=================================================================\n",
            " flatten_30 (Flatten)        (None, 4096)              0         \n",
            "                                                                 \n",
            " dense_92 (Dense)            (None, 64)                262208    \n",
            "                                                                 \n",
            " dense_93 (Dense)            (None, 128)               8320      \n",
            "                                                                 \n",
            " dense_94 (Dense)            (None, 1)                 129       \n",
            "                                                                 \n",
            "=================================================================\n",
            "Total params: 270657 (1.03 MB)\n",
            "Trainable params: 270657 (1.03 MB)\n",
            "Non-trainable params: 0 (0.00 Byte)\n",
            "_________________________________________________________________\n"
          ]
        }
      ],
      "source": [
        "model.summary()"
      ]
    }
  ],
  "metadata": {
    "accelerator": "GPU",
    "colab": {
      "gpuType": "T4",
      "name": "Welcome To Colab",
      "provenance": []
    },
    "kernelspec": {
      "display_name": "Python 3",
      "name": "python3"
    }
  },
  "nbformat": 4,
  "nbformat_minor": 0
}
